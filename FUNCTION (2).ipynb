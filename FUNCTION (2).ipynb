{
  "nbformat": 4,
  "nbformat_minor": 0,
  "metadata": {
    "colab": {
      "provenance": []
    },
    "kernelspec": {
      "name": "python3",
      "display_name": "Python 3"
    },
    "language_info": {
      "name": "python"
    }
  },
  "cells": [
    {
      "cell_type": "code",
      "execution_count": null,
      "metadata": {
        "id": "v382WFsmSYiq"
      },
      "outputs": [],
      "source": [
        "1. What is the difference between a function and a method in Python?\n",
        "\n",
        "2. Explain the concept of function arguments and parameters in Python.\n",
        "\n",
        "3. What are the different ways to define and call a function in Python?\n",
        "\n",
        "4. What is the purpose of the return statement in a Python function?\n",
        "\n",
        "5. What are iterators in Python and how do they differ from iterables?\n",
        "\n",
        "6. Explain the concept of generators in Python and how they are defined.\n",
        "\n",
        "7. What are the advantages of using generators over regular functions?\n",
        "\n",
        "8. What is a lambda function in Python and when is it typically used?\n",
        "\n",
        "9. Explain the purpose and usage of the map() function in Python.\n",
        "\n",
        "10. What is the difference between 'map()', 'reduce()', and 'filter() functions in Python?\n",
        "\n",
        "11. Using pen & Paper write the internal mechanism for sum operation using reduce function on this given list: [47,11,42,13];\n"
      ]
    },
    {
      "cell_type": "markdown",
      "source": [
        "1. What is the difference between a function and a method in Python?\n",
        "\n",
        "**Function:**\n",
        "\n",
        "A standalone block of code that performs a specific task.\n",
        "\n",
        "Can be defined independently and can be called from anywhere in your code.\n",
        "\n",
        "Doesn't belong to a particular object.\n",
        "\n",
        "**Method:**\n",
        "\n",
        "A function that is associated with a specific object.\n",
        "\n",
        "Can only be called on instances of that object.\n",
        "\n",
        "Accesses the object's attributes and can modify its state."
      ],
      "metadata": {
        "id": "C-WiOzvfSi6L"
      }
    },
    {
      "cell_type": "markdown",
      "source": [
        "\n",
        "2. The concept of function arguments and parameters in Python.\n",
        "\n",
        "In Python, functions can take input values, known as arguments, which are used to customize the behavior of the function. These arguments are passed to the function when it's called, and they are received by the function as parameters.\n",
        "\n",
        "**Parameters:**\n",
        "\n",
        "Variables declared within the function definition that receive the values of the arguments passed to the function.\n",
        "\n",
        "They act as placeholders for the actual values that will be provided when the function is called.\n",
        "\n",
        "**Arguments:**\n",
        "\n",
        "The actual values that are passed to the function when it's called.\n",
        "\n",
        "They can be literals, variables, or expressions."
      ],
      "metadata": {
        "id": "GBeTCFj7S-VO"
      }
    },
    {
      "cell_type": "markdown",
      "source": [],
      "metadata": {
        "id": "mBL-E9UtTQLw"
      }
    },
    {
      "cell_type": "markdown",
      "source": [
        "3.\n",
        "### Different Ways to Define and Call a Function in Python\n",
        "\n",
        "1. **Standard Function Definition**:\n",
        "   - Defined using the `def` keyword followed by the function name and parentheses containing any parameters.\n",
        "   - Called by using its name followed by parentheses, including any required arguments.\n",
        "\n",
        "2. **Lambda Functions**:\n",
        "   - Small anonymous functions defined using the `lambda` keyword.\n",
        "   - Can take any number of arguments but only have a single expression.\n",
        "   - Often used for short, throwaway functions and can be called immediately.\n",
        "\n",
        "3. **Method Definitions**:\n",
        "   - Functions defined as methods within a class using the `def` keyword.\n",
        "   - Called on an instance of the class (or on the class itself if they are class methods).\n",
        "\n",
        "4. **Higher-Order Functions**:\n",
        "   - Functions defined to take other functions as arguments or return functions as results.\n",
        "   - Allows for functional programming paradigms.\n",
        "\n",
        "5. **Decorators**:\n",
        "   - Special type of function that can modify the behavior of another function.\n",
        "   - Applied to a function using the `@decorator_name` syntax before the function definition.\n",
        "\n",
        "6. **Generator Functions**:\n",
        "   - Defined using the `def` keyword and containing `yield` statements, returning an iterator.\n",
        "   - Called in a manner similar to regular functions but yield values one at a time.\n"
      ],
      "metadata": {
        "id": "cbZRGDrXT7-5"
      }
    },
    {
      "cell_type": "markdown",
      "source": [
        "4. Purpose of the return Statement in a Python Function\n",
        "- The `return` statement is used to exit a function and return a value to the caller.\n",
        "- It allows a function to send back results, making the function reusable and enabling the output to be stored in a variable or used in expressions.\n",
        "- If no `return` statement is provided, the function returns `None` by default.\n",
        "\n"
      ],
      "metadata": {
        "id": "9Wxi13taT-NT"
      }
    },
    {
      "cell_type": "markdown",
      "source": [
        "### 5. Iterators vs. Iterables in Python\n",
        "- **Iterators**:\n",
        "  - Objects that implement the iterator protocol, which consists of the `__iter__()` and `__next__()` methods.\n",
        "  - They can be iterated over (looped through) only once and maintain their internal state.\n",
        "  \n",
        "- **Iterables**:\n",
        "  - Objects that can be converted into an iterator, such as lists, tuples, dictionaries, and sets.\n",
        "  - They implement the `__iter__()` method but do not require the `__next__()` method, allowing them to produce multiple iterators.\n",
        "\n"
      ],
      "metadata": {
        "id": "_iJeLmzdUY_S"
      }
    },
    {
      "cell_type": "markdown",
      "source": [
        "### 6. Concept of Generators in Python\n",
        "- Generators are a type of iterable that generate values on the fly and yield them one at a time using the `yield` statement.\n",
        "- They are defined like regular functions but use `yield` instead of `return`, allowing them to produce a series of results over time without storing them in memory.\n",
        "\n"
      ],
      "metadata": {
        "id": "-Vt3f1ksUgv6"
      }
    },
    {
      "cell_type": "markdown",
      "source": [
        "### 7. Advantages of Using Generators Over Regular Functions\n",
        "- **Memory Efficiency**: Generators produce items one at a time and do not store the entire dataset in memory, making them ideal for large data streams.\n",
        "- **Lazy Evaluation**: Values are generated only when requested, improving performance and allowing for potentially infinite sequences.\n",
        "- **Simpler Code**: Generators can simplify code that requires state maintenance across multiple function calls.\n",
        "\n"
      ],
      "metadata": {
        "id": "IaHn1jv7UklK"
      }
    },
    {
      "cell_type": "markdown",
      "source": [
        "### 8. Lambda Function in Python\n",
        "- A lambda function is a small anonymous function defined using the `lambda` keyword.\n",
        "- It can take any number of arguments but can only contain a single expression.\n",
        "- Typically used for short functions that are not reused, often in higher-order functions like `map()`, `filter()`, and `sorted()`.\n",
        "\n"
      ],
      "metadata": {
        "id": "x2jgfzdBUoBe"
      }
    },
    {
      "cell_type": "markdown",
      "source": [
        "### 9. Purpose and Usage of the map() Function in Python\n",
        "- The `map()` function applies a specified function to each item in an iterable (like a list) and returns a map object (an iterator).\n",
        "- It is often used for transforming data efficiently and concisely, allowing you to avoid writing explicit loops.\n",
        "\n",
        "\n"
      ],
      "metadata": {
        "id": "Euqt-uncUrTL"
      }
    },
    {
      "cell_type": "markdown",
      "source": [
        "### 10. Difference Between `map()`, `reduce()`, and `filter()` Functions in Python\n",
        "- **map()**:\n",
        "  - Transforms each element in an iterable using a specified function and returns an iterator of the results.\n",
        "  \n",
        "- **reduce()**:\n",
        "  - Applies a binary function cumulatively to the items of an iterable, reducing it to a single value. Requires importing from the `functools` module.\n",
        "\n",
        "- **filter()**:\n",
        "  - Filters elements from an iterable based on a specified function that returns `True` or `False`, returning an iterator of the filtered results.\n",
        "\n"
      ],
      "metadata": {
        "id": "cdPjlQRVUuKi"
      }
    },
    {
      "cell_type": "markdown",
      "source": [
        "##11![WhatsApp Image 2024-10-03 at 19.00.37_ada10587.jpg](data:image/jpeg;base64,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)"
      ],
      "metadata": {
        "id": "NFNzh8m2mId5"
      }
    },
    {
      "cell_type": "code",
      "source": [
        "1. Write a Python function that takes a list of numbers as input and returns the sum of all even numbers in\n",
        "the list.\n",
        "\n",
        "2. Create a Python function that accepts a string and returns the reverse of that string.\n",
        "\n",
        "\n",
        "3. Implement a Python function that takes a list of integers and returns a new list containing the squares of\n",
        "each number.\n",
        "\n",
        "4. Write a Python function that checks if a given number is prime or not from 1 to 200.\n",
        "\n",
        "\n",
        "5. Create an iterator class in Python that generates the Fibonacci sequence up to a specified number of\n",
        "terms.\n",
        "\n",
        "6. Write a generator function in Python that yields the powers of 2 up to a given exponent.\n",
        "\n",
        "7. Implement a generator function that reads a file line by line and yields each line as a string.\n",
        "\n",
        "8. Use a lambda function in Python to sort a list of tuples based on the second element of each tuple.\n",
        "\n",
        "9. Write a Python program that uses `map()` to convert a list of temperatures from Celsius to Fahrenheit.\n",
        "\n",
        "10. Create a Python program that uses `filter()` to remove all the vowels from a given string.\n",
        "\n",
        "\n",
        "11) Imagine an accounting routine used in a book shop. It works on a list with sublists, which look like this:\n",
        "\n",
        "\n",
        "Write a Python program, which returns a list with 2-tuples. Each tuple consists of the order number and the\n",
        "product of the price per item and the quantity. The product should be increased by 10,- € if the value of the\n",
        "order is smaller than 100,00 €.\n",
        "\n",
        "Write a Python program using lambda and ma"
      ],
      "metadata": {
        "id": "uXd2P9Gxt0cD"
      },
      "execution_count": null,
      "outputs": []
    },
    {
      "cell_type": "code",
      "source": [
        "#1\n",
        "def sum_even_numbers(numbers):\n",
        "    # Sum only the even numbers in the list\n",
        "    even_sum = sum(num for num in numbers if num % 2 == 0)\n",
        "    return even_sum\n",
        "\n",
        "# Example usage\n",
        "example_list = [1, 2, 3, 4, 5, 6]\n",
        "print(sum_even_numbers(example_list))  # Output: 12\n"
      ],
      "metadata": {
        "id": "9rdAtWeal1Kz"
      },
      "execution_count": null,
      "outputs": []
    },
    {
      "cell_type": "code",
      "source": [
        "#2\n",
        "def reverse_string(string):\n",
        "  \"\"\"\n",
        "  This function takes a string and returns the reversed string.\n",
        "  \"\"\"\n",
        "  return string[::-1]\n",
        "\n",
        "# Example usage\n",
        "my_string = \"hello\"\n",
        "reversed_string = reverse_string(my_string)\n",
        "print(reversed_string)  # Output: olleh"
      ],
      "metadata": {
        "colab": {
          "base_uri": "https://localhost:8080/"
        },
        "id": "GruHNk2muC-v",
        "outputId": "104e22e7-e81b-4555-a20f-8fc94d00815c"
      },
      "execution_count": null,
      "outputs": [
        {
          "output_type": "stream",
          "name": "stdout",
          "text": [
            "olleh\n"
          ]
        }
      ]
    },
    {
      "cell_type": "code",
      "source": [
        "#3 Implement a Python function that takes a list of integers and returns a new list containing the squares of each number.\n",
        "def square_numbers(numbers):\n",
        "  \"\"\"\n",
        "  This function takes a list of integers and returns a new list containing the squares of each number.\n",
        "  \"\"\"\n",
        "  return [number**2 for number in numbers]\n",
        "\n",
        "# Example usage\n",
        "my_numbers = [1, 2, 3, 4, 5]\n",
        "squared_numbers = square_numbers(my_numbers)\n",
        "print(squared_numbers)  # Output: [1, 4, 9, 16, 25]"
      ],
      "metadata": {
        "colab": {
          "base_uri": "https://localhost:8080/"
        },
        "id": "QSysvACPuk9i",
        "outputId": "5373c9b1-173b-4b1a-d533-258f4965d1f8"
      },
      "execution_count": null,
      "outputs": [
        {
          "output_type": "stream",
          "name": "stdout",
          "text": [
            "[1, 4, 9, 16, 25]\n"
          ]
        }
      ]
    },
    {
      "cell_type": "code",
      "source": [
        "#4. Write a Python function that checks if a given number is prime or not from 1 to 200.\n",
        "def is_prime(number):\n",
        "  \"\"\"\n",
        "  This function checks if a number is prime within the range of 1 to 200.\n",
        "  \"\"\"\n",
        "  if number <= 1:\n",
        "    return False\n",
        "  if number <= 3:\n",
        "    return True\n",
        "  if number % 2 == 0 or number % 3 == 0:\n",
        "    return False\n",
        "  i = 5\n",
        "  while i * 1: # Assuming you want to continue the loop as long as i is non-zero, you can change the condition as needed\n",
        "      pass # Add your desired loop actions here"
      ],
      "metadata": {
        "id": "8hvN2uSPuy7c"
      },
      "execution_count": null,
      "outputs": []
    },
    {
      "cell_type": "code",
      "source": [
        "#5 . Create an iterator class in Python that generates the Fibonacci sequence up to a specified number of terms.\n",
        "class FibonacciIterator:\n",
        "  \"\"\"\n",
        "  This class is an iterator that generates the Fibonacci sequence up to a specified number of terms.\n",
        "  \"\"\"\n",
        "  def __init__(self, num_terms):\n",
        "    self.num_terms = num_terms\n",
        "    self.count = 0\n",
        "    self.a = 0\n",
        "    self.b = 1\n",
        "\n",
        "  def __iter__(self):\n",
        "    return self\n",
        "\n",
        "  def __next__(self):\n",
        "    if self.count >= self.num_terms:\n",
        "      raise StopIteration\n",
        "    result = self.a\n",
        "    self.a, self.b = self.b, self.a + self.b\n",
        "    self.count += 1\n",
        "    return result\n",
        "\n",
        "# Example usage\n",
        "fib_iter = FibonacciIterator(10)\n",
        "for num in fib_iter:\n",
        "  print(num)"
      ],
      "metadata": {
        "colab": {
          "base_uri": "https://localhost:8080/"
        },
        "id": "2uNSlXgsvMWH",
        "outputId": "4ed94e58-272b-4722-8730-176fd22cfe83"
      },
      "execution_count": null,
      "outputs": [
        {
          "output_type": "stream",
          "name": "stdout",
          "text": [
            "0\n",
            "1\n",
            "1\n",
            "2\n",
            "3\n",
            "5\n",
            "8\n",
            "13\n",
            "21\n",
            "34\n"
          ]
        }
      ]
    },
    {
      "cell_type": "code",
      "source": [
        "\n",
        "\n",
        "#6. Write a generator function in Python that yields the powers of 2 up to a given exponent.\n",
        "\n",
        "def powers_of_2(exponent):\n",
        "  \"\"\"\n",
        "  This generator function yields the powers of 2 up to a given exponent.\n",
        "  \"\"\"\n",
        "  for i in range(exponent + 1):\n",
        "    yield 2 ** i\n",
        "\n",
        "# Example usage\n",
        "for power in powers_of_2(5):\n",
        "  print(power\n",
        "        )"
      ],
      "metadata": {
        "colab": {
          "base_uri": "https://localhost:8080/"
        },
        "id": "wvoz-WdNvWhS",
        "outputId": "418753ba-3576-4367-ef08-869b15acf3a4"
      },
      "execution_count": null,
      "outputs": [
        {
          "output_type": "stream",
          "name": "stdout",
          "text": [
            "1\n",
            "2\n",
            "4\n",
            "8\n",
            "16\n",
            "32\n"
          ]
        }
      ]
    },
    {
      "cell_type": "code",
      "source": [
        "#7. Implement a generator function that reads a file line by line and yields each line as a string.\n",
        "def read_file_line_by_line(file_path):\n",
        "    \"\"\"\n",
        "    A generator function that reads a file line by line and yields each line as a string.\n",
        "\n",
        "    Parameters:\n",
        "    file_path (str): The path to the file to be read.\n",
        "\n",
        "    Yields:\n",
        "    str: Each line of the file as a string.\n",
        "    \"\"\"\n",
        "    try:\n",
        "        with open(file_path, 'r') as file:\n",
        "            for line in file:\n",
        "                yield line.strip()  # Using .strip() to remove any leading/trailing whitespace and newline characters\n",
        "    except FileNotFoundError:\n",
        "        print(f\"The file at path {file_path} was not found.\")\n",
        "    except Exception as e:\n",
        "        print(f\"An error occurred: {e}\")\n"
      ],
      "metadata": {
        "id": "X3Mrb4Hfvhir"
      },
      "execution_count": null,
      "outputs": []
    },
    {
      "cell_type": "code",
      "source": [
        "#8. Use a lambda function in Python to sort a list of tuples based on the second element of each tuple.\n",
        "\n",
        "# Example list of tuples\n",
        "my_tuples = [(1, 5), (3, 2), (2, 8), (4, 1)]\n",
        "\n",
        "# Sort the list of tuples based on the second element using a lambda function\n",
        "sorted_tuples = sorted(my_tuples, key=lambda tup: tup[1])\n",
        "\n",
        "# Print the sorted list of tuples\n",
        "print(sorted_tuples)\n"
      ],
      "metadata": {
        "colab": {
          "base_uri": "https://localhost:8080/"
        },
        "id": "tMMwTOjBvn3W",
        "outputId": "a39857f8-715d-4058-ba9f-50672cebd4f7"
      },
      "execution_count": null,
      "outputs": [
        {
          "output_type": "stream",
          "name": "stdout",
          "text": [
            "[(4, 1), (3, 2), (1, 5), (2, 8)]\n"
          ]
        }
      ]
    },
    {
      "cell_type": "code",
      "source": [
        "#9. Write a Python program that uses `map()` to convert a list of temperatures from Celsius to Fahrenheit.\n",
        "def celsius_to_fahrenheit(celsius):\n",
        "  \"\"\"Converts a temperature from Celsius to Fahrenheit.\"\"\"\n",
        "  return (celsius * 9/5) + 32\n",
        "\n",
        "# Example usage\n",
        "celsius_temps = [0, 10, 20, 30, 40]\n",
        "fahrenheit_temps = list(map(celsius_to_fahrenheit, celsius_temps))\n",
        "print(fahrenheit_temps)"
      ],
      "metadata": {
        "colab": {
          "base_uri": "https://localhost:8080/"
        },
        "id": "ZKkFVsYbvqh3",
        "outputId": "401bc1cd-c600-499c-8b56-5aa87e949805"
      },
      "execution_count": null,
      "outputs": [
        {
          "output_type": "stream",
          "name": "stdout",
          "text": [
            "[32.0, 50.0, 68.0, 86.0, 104.0]\n"
          ]
        }
      ]
    },
    {
      "cell_type": "markdown",
      "source": [],
      "metadata": {
        "id": "xoEAbVO4vS-f"
      }
    },
    {
      "cell_type": "code",
      "source": [
        "#10\n",
        "def remove_vowels(string):\n",
        "    vowels = \"aeiouAEIOU\"\n",
        "    return ''.join(char for char in string if char not in vowels)\n",
        "\n",
        "string = \"Hello, world!\"\n",
        "result = remove_vowels(string)\n",
        "print(result)"
      ],
      "metadata": {
        "colab": {
          "base_uri": "https://localhost:8080/"
        },
        "id": "s45rxMJ4tMXg",
        "outputId": "9fd9b1fb-9701-4b79-c63a-189521596077"
      },
      "execution_count": null,
      "outputs": [
        {
          "output_type": "stream",
          "name": "stdout",
          "text": [
            "Hll, wrld!\n"
          ]
        }
      ]
    },
    {
      "cell_type": "code",
      "source": [
        "#11def process_orders(orders):\n",
        "\n",
        "def process_orders(orders):\n",
        "    def calculate_total(order): # removed extra spaces here\n",
        "        order_number, _, quantity, price = order\n",
        "        total = quantity * price\n",
        "        return (order_number, total + 10 if total < 100 else total)\n",
        "\n",
        "    return list(map(calculate_total, orders))\n",
        "\n",
        "orders = [\n",
        "    (34587, \"Learning Python, Mark Lutz\", 4, 40.95),\n",
        "    (98762, \"Programming Python, Mark Lutz\", 53, 56.80),\n",
        "    (77226, \"Head First Python, Paul Barry\", 3, 32.95),\n",
        "    (88112, \"Einführung in Python3, Bernd Klein\", 3, 24.99)\n",
        "]\n",
        "\n",
        "result = process_orders(orders)\n",
        "print(result)"
      ],
      "metadata": {
        "colab": {
          "base_uri": "https://localhost:8080/"
        },
        "id": "4wyFsh_etO_i",
        "outputId": "fc52638a-c595-4523-e99d-9927723dc8d8"
      },
      "execution_count": null,
      "outputs": [
        {
          "output_type": "stream",
          "name": "stdout",
          "text": [
            "[(34587, 163.8), (98762, 3010.3999999999996), (77226, 108.85000000000001), (88112, 84.97)]\n"
          ]
        }
      ]
    }
  ]
}